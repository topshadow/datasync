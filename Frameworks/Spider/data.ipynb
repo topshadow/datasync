{
 "cells": [
  {
   "attachments": {},
   "cell_type": "markdown",
   "metadata": {
    "dotnet_interactive": {
     "language": "csharp"
    },
    "polyglot_notebook": {
     "kernelName": "csharp"
    }
   },
   "source": [
    "# 抓取数据\n",
    "\n"
   ]
  },
  {
   "cell_type": "code",
   "execution_count": 19,
   "metadata": {
    "dotnet_interactive": {
     "language": "csharp"
    },
    "polyglot_notebook": {
     "kernelName": "csharp"
    },
    "vscode": {
     "languageId": "polyglot-notebook"
    }
   },
   "outputs": [
    {
     "data": {
      "text/html": [
       "<div><div></div><div></div><div><strong>Installed Packages</strong><ul><li><span>ScottPlot, 4.1.63</span></li></ul></div></div>"
      ]
     },
     "metadata": {},
     "output_type": "display_data"
    }
   ],
   "source": [
    "#r \"nuget:ScottPlot, 4.1.63\"\n",
    "#r \"../../Apps/RongCheng/RongChengApp/bin/Debug/net6.0/RongChengApp.dll\"\n",
    "\n",
    "using Microsoft.DotNet.Interactive.Formatting;\n",
    "using ScottPlot;\n",
    "Formatter.Register(typeof(ScottPlot.Plot), (p, w) => \n",
    "    w.Write(((ScottPlot.Plot)p).GetImageHTML()), HtmlFormatter.MimeType);"
   ]
  },
  {
   "cell_type": "code",
   "execution_count": 31,
   "metadata": {
    "dotnet_interactive": {
     "language": "csharp"
    },
    "polyglot_notebook": {
     "kernelName": "csharp"
    },
    "vscode": {
     "languageId": "polyglot-notebook"
    }
   },
   "outputs": [
    {
     "data": {
      "text/html": [
       "<div><div></div><div></div><div><strong>Installed Packages</strong><ul><li><span>ScottPlot, 4.1.63</span></li></ul></div></div>"
      ]
     },
     "metadata": {},
     "output_type": "display_data"
    }
   ],
   "source": [
    "#r \"nuget:ScottPlot, 4.1.63\"\n",
    "#r  \"../../Apps/RongCheng/RongChengApp/bin/Debug/net6.0/RongChengApp.dll\"//\n",
    "\n",
    "using System;\n",
    "using System.Net.Http;\n",
    "using System.Net.Http.Json;\n",
    "using RongChengApp.Dtos;\n",
    "\n",
    "using Microsoft.DotNet.Interactive.Formatting;\n",
    "var httpClient=  new HttpClient();\n",
    "var cookie=\"JSESSIONID=431626C5D8691AF6937B3982AD9424F1;\";\n",
    "httpClient.DefaultRequestHeaders.Add(\"cookie\",cookie);\n",
    "httpClient.DefaultRequestHeaders.Add(\"Origin\",\"http://ph01.gd.xianyuyigongti.com:9002\");\n",
    "httpClient.DefaultRequestHeaders.Add(\"Origin\",\"http://ph01.gd.xianyuyigongti.com:9002\");\n",
    "httpClient.DefaultRequestHeaders.Add(\"Referer\",\"http://ph01.gd.xianyuyigongti.com:9002/chis/index.html\");\n",
    "httpClient.DefaultRequestHeaders.Add(\"User-Agent\",\"Mozilla/5.0 (Windows NT 10.0; WOW64) AppleWebKit/537.36 (KHTML, like Gecko) Chrome/102.0.0.0 Safari/537.36\");\n",
    "var rtn=await httpClient.PostAsJsonAsync(\"http://ph01.gd.xianyuyigongti.com:9002/chis/*.jsonRequest\",new EHRHealthRecordInput{pageSize=10000} );\n",
    "var data=await rtn.Content.ReadFromJsonAsync<EHRHealthRecordResult>();"
   ]
  },
  {
   "attachments": {},
   "cell_type": "markdown",
   "metadata": {
    "dotnet_interactive": {
     "language": "csharp"
    },
    "polyglot_notebook": {
     "kernelName": "csharp"
    }
   },
   "source": [
    "# 医疗信息"
   ]
  },
  {
   "cell_type": "code",
   "execution_count": 45,
   "metadata": {
    "dotnet_interactive": {
     "language": "csharp"
    },
    "polyglot_notebook": {
     "kernelName": "csharp"
    },
    "vscode": {
     "languageId": "polyglot-notebook"
    }
   },
   "outputs": [
    {
     "ename": "Error",
     "evalue": "(2,2): error CS7017: 应是成员定义、语句或文件尾",
     "output_type": "error",
     "traceback": [
      "(2,2): error CS7017: 应是成员定义、语句或文件尾"
     ]
    }
   ],
   "source": [
    "#!share --from csharp data\n",
    "#r \"../../Apps/RongCheng/RongChengApp/bin/Debug/net6.0/RongChengApp.dll\"//\n",
    "\n",
    "var oldManHypertensionCount=(double)data.body\n",
    " .Where(item=>!String.IsNullOrEmpty(item.RQBJ_text))\n",
    " .Where(item=>item.RQBJ_text.Contains(\"老年人\"))\n",
    " .Where(item=> item.RQBJ_text.Contains(\"高血压\"))\n",
    " .Count();\n",
    " var allHypertension=(double)data.body\n",
    " .Where(item=>!String.IsNullOrEmpty(item.RQBJ_text))\n",
    " .Where(item=>item.RQBJ_text.Contains(\"老年人\") &&!item.RQBJ_text.Contains(\"高血压\"))\n",
    " .Count();\n",
    "double[] values= new []{oldManHypertensionCount,\n",
    " (double)(allHypertension)};\n",
    "string[] labels = { \"old高血压/\"+oldManHypertensionCount, \"old非高血压/\"+allHypertension};\n",
    "// plot the data\n",
    "ScottPlot.Plot plt = new(600, 400);\n",
    "var pie = plt.AddPie(values);\n",
    "pie.SliceLabels = labels;\n",
    "pie.ShowLabels = true;\n",
    "plt\n"
   ]
  },
  {
   "cell_type": "code",
   "execution_count": 39,
   "metadata": {
    "dotnet_interactive": {
     "language": "csharp"
    },
    "polyglot_notebook": {
     "kernelName": "csharp"
    },
    "vscode": {
     "languageId": "polyglot-notebook"
    }
   },
   "outputs": [
    {
     "data": {
      "text/html": [
       "<table><thead><tr><th><i>index</i></th><th>tag</th><th>count</th></tr></thead><tbody><tr><td>0</td><td>普通人群</td><td><div class=\"dni-plaintext\"><pre>6593</pre></div></td></tr><tr><td>1</td><td>已签约</td><td><div class=\"dni-plaintext\"><pre>3761</pre></div></td></tr><tr><td>2</td><td>儿童</td><td><div class=\"dni-plaintext\"><pre>437</pre></div></td></tr><tr><td>3</td><td>孕产妇</td><td><div class=\"dni-plaintext\"><pre>43</pre></div></td></tr><tr><td>4</td><td>老年人</td><td><div class=\"dni-plaintext\"><pre>761</pre></div></td></tr><tr><td>5</td><td>高血压</td><td><div class=\"dni-plaintext\"><pre>304</pre></div></td></tr><tr><td>6</td><td>糖尿病</td><td><div class=\"dni-plaintext\"><pre>126</pre></div></td></tr><tr><td>7</td><td>残疾人</td><td><div class=\"dni-plaintext\"><pre>31</pre></div></td></tr><tr><td>8</td><td>精神障碍</td><td><div class=\"dni-plaintext\"><pre>24</pre></div></td></tr><tr><td>9</td><td>肺结核</td><td><div class=\"dni-plaintext\"><pre>6</pre></div></td></tr></tbody></table><style>\r\n",
       ".dni-code-hint {\r\n",
       "    font-style: italic;\r\n",
       "    overflow: hidden;\r\n",
       "    white-space: nowrap;\r\n",
       "}\r\n",
       ".dni-treeview {\r\n",
       "    white-space: nowrap;\r\n",
       "}\r\n",
       ".dni-treeview td {\r\n",
       "    vertical-align: top;\r\n",
       "    text-align: start;\r\n",
       "}\r\n",
       "details.dni-treeview {\r\n",
       "    padding-left: 1em;\r\n",
       "}\r\n",
       "table td {\r\n",
       "    text-align: start;\r\n",
       "}\r\n",
       "table tr { \r\n",
       "    vertical-align: top; \r\n",
       "    margin: 0em 0px;\r\n",
       "}\r\n",
       "table tr td pre \r\n",
       "{ \r\n",
       "    vertical-align: top !important; \r\n",
       "    margin: 0em 0px !important;\r\n",
       "} \r\n",
       "table th {\r\n",
       "    text-align: start;\r\n",
       "}\r\n",
       "</style>"
      ]
     },
     "metadata": {},
     "output_type": "display_data"
    }
   ],
   "source": [
    "#!share --from csharp data\n",
    "var tags=new List<string>{};\n",
    "var testData=data.body.Where(item=>!string.IsNullOrEmpty(item.RQBJ_text));\n",
    "var test= testData.Select(item=>item.RQBJ_text.Split(\",\")).ToList();\n",
    "test.ForEach(item=> {foreach(var str in item){ if(!tags.Contains(str)){ tags.Add(str); } }} );\n",
    "var result= new List<object>{};\n",
    "tags.ForEach(tag=>{\n",
    "   result.Add(new {tag=tag,count=testData.Where(item=>item.RQBJ_text.Contains(tag)).Count()});\n",
    "\n",
    "});\n",
    "result\n",
    "\n"
   ]
  },
  {
   "cell_type": "code",
   "execution_count": null,
   "metadata": {
    "dotnet_interactive": {
     "language": "javascript"
    },
    "polyglot_notebook": {
     "kernelName": "javascript"
    },
    "vscode": {
     "languageId": "polyglot-notebook"
    }
   },
   "outputs": [],
   "source": [
    "#!share --from csharp age\n"
   ]
  },
  {
   "cell_type": "code",
   "execution_count": null,
   "metadata": {
    "dotnet_interactive": {
     "language": "csharp"
    },
    "polyglot_notebook": {
     "kernelName": "csharp"
    },
    "vscode": {
     "languageId": "polyglot-notebook"
    }
   },
   "outputs": [],
   "source": [
    "#!share --from csharp age\n"
   ]
  },
  {
   "cell_type": "code",
   "execution_count": null,
   "metadata": {
    "dotnet_interactive": {
     "language": "csharp"
    },
    "polyglot_notebook": {
     "kernelName": "csharp"
    },
    "vscode": {
     "languageId": "polyglot-notebook"
    }
   },
   "outputs": [],
   "source": [
    "#!share --from csharp age\n"
   ]
  },
  {
   "attachments": {},
   "cell_type": "markdown",
   "metadata": {
    "dotnet_interactive": {
     "language": "csharp"
    },
    "polyglot_notebook": {
     "kernelName": "csharp"
    }
   },
   "source": [
    "875f62096e46447780fb11473f9b912f_C: \"875f62096e46447780fb11473f9b912f_C\"\n",
    "empiId: \"875f62096e46447780fb11473f9b912f\"\n",
    "idsLoader: \"chis.hypertensionRecordIdLoader,chis.hypertensionVisitPlanIdLoader,chis.hypertensionRiskIdLoader\"\n",
    "recordStatus: \"0\"\n",
    "\n",
    "empiId: \"875f62096e46447780fb11473f9b912f\"\n",
    "phrId: \"44520200621302093\""
   ]
  },
  {
   "cell_type": "code",
   "execution_count": null,
   "metadata": {
    "dotnet_interactive": {
     "language": "csharp"
    },
    "polyglot_notebook": {
     "kernelName": "csharp"
    },
    "vscode": {
     "languageId": "polyglot-notebook"
    }
   },
   "outputs": [],
   "source": [
    "\n"
   ]
  }
 ],
 "metadata": {
  "kernelspec": {
   "display_name": ".NET (C#)",
   "language": "C#",
   "name": ".net-csharp"
  },
  "polyglot_notebook": {
   "kernelInfo": {
    "defaultKernelName": "csharp",
    "items": [
     {
      "aliases": [
       "c#",
       "C#"
      ],
      "languageName": "C#",
      "name": "csharp"
     },
     {
      "aliases": [
       "frontend"
      ],
      "name": "vscode"
     },
     {
      "aliases": [],
      "name": ".NET"
     },
     {
      "aliases": [
       "f#",
       "F#"
      ],
      "languageName": "F#",
      "name": "fsharp"
     },
     {
      "aliases": [],
      "languageName": "HTML",
      "name": "html"
     },
     {
      "aliases": [],
      "languageName": "KQL",
      "name": "kql"
     },
     {
      "aliases": [],
      "languageName": "Mermaid",
      "name": "mermaid"
     },
     {
      "aliases": [
       "powershell"
      ],
      "languageName": "PowerShell",
      "name": "pwsh"
     },
     {
      "aliases": [],
      "languageName": "SQL",
      "name": "sql"
     },
     {
      "aliases": [],
      "name": "value"
     },
     {
      "aliases": [
       "js"
      ],
      "languageName": "JavaScript",
      "name": "javascript"
     },
     {
      "aliases": [],
      "name": "webview"
     }
    ]
   }
  }
 },
 "nbformat": 4,
 "nbformat_minor": 2
}
